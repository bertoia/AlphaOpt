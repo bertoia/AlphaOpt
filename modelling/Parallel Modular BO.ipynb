{
 "cells": [
  {
   "cell_type": "code",
   "execution_count": null,
   "metadata": {
    "collapsed": false
   },
   "outputs": [],
   "source": [
    "import sys\n",
    "sys.path.append(\"../\")\n",
    "import os\n",
    "print(os.getcwd())\n",
    "%pylab inline\n",
    "import GPyOpt\n",
    "import GPy\n",
    "from AlphaOpt import components"
   ]
  },
  {
   "cell_type": "code",
   "execution_count": null,
   "metadata": {
    "collapsed": true
   },
   "outputs": [],
   "source": [
    "from GPyOpt.objective_examples.experiments1d import *\n",
    "from GPyOpt.objective_examples.experiments2d import *\n",
    "\n",
    "# Output\n",
    "func  = forrester()\n",
    "y = forrester()\n",
    "input_dim = 1\n",
    "objective = GPyOpt.core.task.SingleObjective(lambda x: y.f(x))\n",
    "\n",
    "# Input\n",
    "v1_dom = func.bounds[0]\n",
    "#v2_dom = func.bounds[1]\n",
    "\n",
    "space = GPyOpt.Design_space(space =[{'name': 'var_1', 'type': 'continuous', 'domain': v1_dom}])\n",
    "                                   #{'name': 'var_2', 'type': 'continuous', 'domain': v2_dom}])"
   ]
  },
  {
   "cell_type": "code",
   "execution_count": null,
   "metadata": {
    "collapsed": true
   },
   "outputs": [],
   "source": [
    "# Bayesian Optimization Components\n",
    "# GP models\n",
    "kernel = GPy.kern.Matern52(input_dim=input_dim, ARD=True)\n",
    "model = GPyOpt.models.GPModel(kernel=kernel, optimize_restarts=10,verbose=False)\n",
    "\n",
    "# Cost model\n",
    "# cost = GPyOpt.core.task.CostModel('evaluation_time')"
   ]
  },
  {
   "cell_type": "code",
   "execution_count": null,
   "metadata": {
    "collapsed": false
   },
   "outputs": [],
   "source": [
    "from GPyOpt.core.evaluators.base import EvaluatorBase\n",
    "class MultiAcquisitions(EvaluatorBase):\n",
    "    def __init__(self, *args):\n",
    "        self.acquisitions = args\n",
    "\n",
    "    def compute_batch(self):\n",
    "        X_batch = self.acquisitions[0].optimize()\n",
    "        for i in range(1, len(self.acquisitions)):\n",
    "            X_batch = np.vstack((X_batch,self.acquisitions[i].optimize()))\n",
    "        return X_batch"
   ]
  },
  {
   "cell_type": "code",
   "execution_count": null,
   "metadata": {
    "collapsed": false
   },
   "outputs": [],
   "source": [
    "# Decision models\n",
    "acq_opt = GPyOpt.optimization.AcquisitionOptimizer(space)\n",
    "\n",
    "# Use EI as the baseline\n",
    "acq_fxs = [GPyOpt.acquisitions.AcquisitionEI(model, space, acq_opt), \n",
    "          components.EIXplore(model, space, acq_opt),\n",
    "          GPyOpt.acquisitions.AcquisitionMPI(model, space, acq_opt),\n",
    "          GPyOpt.acquisitions.AcquisitionLCB(model, space, acq_opt)]\n",
    "\n",
    "\n",
    "eval_fx = MultiAcquisitions(*acq_fxs)"
   ]
  },
  {
   "cell_type": "code",
   "execution_count": null,
   "metadata": {
    "collapsed": false
   },
   "outputs": [],
   "source": [
    "from GPyOpt.methods.modular_bayesian_optimization import ModularBayesianOptimization\n",
    "from GPyOpt.core.task.objective import SingleObjective\n",
    "class CustomBO(ModularBayesianOptimization):\n",
    "    def __init__(self, model, space, objective, acquisition, evaluator, X_init, Y_init=None, cost = None, normalize_Y = True, model_update_interval = 1, num_cores=4):\n",
    "        super().__init__(model                 = model, \n",
    "                        space                  = space, \n",
    "                        objective              = objective, \n",
    "                        acquisition            = acquisition, \n",
    "                        evaluator              = evaluator,\n",
    "                        X_init                 = X_init, \n",
    "                        Y_init                 = Y_init,\n",
    "                        cost                   = cost,\n",
    "                        normalize_Y            = normalize_Y, \n",
    "                        model_update_interval  = model_update_interval)\n",
    "        self.num_cores = num_cores\n",
    "        self.objective = SingleObjective(self.objective, num_cores=self.num_cores)\n",
    "        self.run_optimization(0)\n"
   ]
  },
  {
   "cell_type": "code",
   "execution_count": null,
   "metadata": {
    "collapsed": false
   },
   "outputs": [],
   "source": [
    "X_init = GPyOpt.util.stats.initial_design('random', space, 2)\n",
    "num_cores = 4\n",
    "bo = CustomBO(model=model,objective=objective,space=space,acquisition=None,X_init=X_init,normalize_Y = True,evaluator = eval_fx)"
   ]
  },
  {
   "cell_type": "code",
   "execution_count": null,
   "metadata": {
    "collapsed": false
   },
   "outputs": [],
   "source": [
    "bo.run_optimization(max_iter = 10, eps=1e-10, verbosity=True)"
   ]
  },
  {
   "cell_type": "code",
   "execution_count": null,
   "metadata": {
    "collapsed": true
   },
   "outputs": [],
   "source": []
  }
 ],
 "metadata": {
  "kernelspec": {
   "display_name": "Python 3",
   "language": "python",
   "name": "python3"
  },
  "language_info": {
   "codemirror_mode": {
    "name": "ipython",
    "version": 3
   },
   "file_extension": ".py",
   "mimetype": "text/x-python",
   "name": "python",
   "nbconvert_exporter": "python",
   "pygments_lexer": "ipython3",
   "version": "3.5.1"
  }
 },
 "nbformat": 4,
 "nbformat_minor": 0
}
